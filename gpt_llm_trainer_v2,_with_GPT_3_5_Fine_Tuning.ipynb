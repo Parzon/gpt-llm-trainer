{
  "cells": [
    {
      "cell_type": "markdown",
      "metadata": {
        "id": "wM8MRkf8Dr94"
      },
      "source": [
        "## Describe your model -> fine-tuned GPT-3.5\n",
        "By Matt Shumer (https://twitter.com/mattshumer_)\n",
        "\n",
        "The goal of this notebook is to experiment with a new way to make it very easy to build a task-specific model for your use-case.\n",
        "\n",
        "First, use the best GPU available (go to Runtime -> change runtime type)\n",
        "\n",
        "To create your model, just go to the first code cell, and describe the model you want to build in the prompt. Be descriptive and clear.\n",
        "\n",
        "Select a temperature (high=creative, low=precise), and the number of training examples to generate to train the model. From there, just run all the cells.\n",
        "\n",
        "You can change the model you want to fine-tune by changing `model_name` in the `Define Hyperparameters` cell."
      ]
    },
    {
      "cell_type": "markdown",
      "metadata": {
        "id": "Way3_PuPpIuE"
      },
      "source": [
        "#Data generation step"
      ]
    },
    {
      "cell_type": "markdown",
      "metadata": {
        "id": "lY-3DvlIpVSl"
      },
      "source": [
        "Write your prompt here. Make it as descriptive as possible!\n",
        "\n",
        "Then, choose the temperature (between 0 and 1) to use when generating data. Lower values are great for precise tasks, like writing code, whereas larger values are better for creative tasks, like writing stories.\n",
        "\n",
        "Finally, choose how many examples you want to generate. The more you generate, a) the longer it takes and b) the more expensive data generation will be. But generally, more examples will lead to a higher-quality model. 100 is usually the minimum to start."
      ]
    },
    {
      "cell_type": "code",
      "execution_count": 1,
      "metadata": {
        "id": "R7WKZyxtpUPS"
      },
      "outputs": [],
      "source": [
        "prompt = \"A model that takes in a puzzle-like reasoning-heavy and specific questions in English for a college named Claremont Graduate University (CGU), and responds with a well-reasoned, accurate, step-by-step thought out response in English.\"\n",
        "temperature = .4\n",
        "number_of_examples = 150"
      ]
    },
    {
      "cell_type": "markdown",
      "metadata": {
        "id": "1snNou5PrIci"
      },
      "source": [
        "Run this to generate the dataset."
      ]
    },
    {
      "cell_type": "code",
      "execution_count": 2,
      "metadata": {
        "colab": {
          "base_uri": "https://localhost:8080/"
        },
        "id": "zuL2UaqlsmBD",
        "outputId": "d395edae-41d8-4851-ed98-3fa385780a19"
      },
      "outputs": [
        {
          "name": "stdout",
          "output_type": "stream",
          "text": [
            "Requirement already satisfied: openai in ./gpt-gen/lib/python3.11/site-packages (1.14.3)\n",
            "Requirement already satisfied: tenacity in ./gpt-gen/lib/python3.11/site-packages (8.2.3)\n",
            "Requirement already satisfied: anyio<5,>=3.5.0 in ./gpt-gen/lib/python3.11/site-packages (from openai) (4.3.0)\n",
            "Requirement already satisfied: distro<2,>=1.7.0 in ./gpt-gen/lib/python3.11/site-packages (from openai) (1.9.0)\n",
            "Requirement already satisfied: httpx<1,>=0.23.0 in ./gpt-gen/lib/python3.11/site-packages (from openai) (0.27.0)\n",
            "Requirement already satisfied: pydantic<3,>=1.9.0 in ./gpt-gen/lib/python3.11/site-packages (from openai) (2.6.4)\n",
            "Requirement already satisfied: sniffio in ./gpt-gen/lib/python3.11/site-packages (from openai) (1.3.1)\n",
            "Requirement already satisfied: tqdm>4 in ./gpt-gen/lib/python3.11/site-packages (from openai) (4.66.2)\n",
            "Requirement already satisfied: typing-extensions<5,>=4.7 in ./gpt-gen/lib/python3.11/site-packages (from openai) (4.10.0)\n",
            "Requirement already satisfied: idna>=2.8 in ./gpt-gen/lib/python3.11/site-packages (from anyio<5,>=3.5.0->openai) (3.6)\n",
            "Requirement already satisfied: certifi in ./gpt-gen/lib/python3.11/site-packages (from httpx<1,>=0.23.0->openai) (2024.2.2)\n",
            "Requirement already satisfied: httpcore==1.* in ./gpt-gen/lib/python3.11/site-packages (from httpx<1,>=0.23.0->openai) (1.0.5)\n",
            "Requirement already satisfied: h11<0.15,>=0.13 in ./gpt-gen/lib/python3.11/site-packages (from httpcore==1.*->httpx<1,>=0.23.0->openai) (0.14.0)\n",
            "Requirement already satisfied: annotated-types>=0.4.0 in ./gpt-gen/lib/python3.11/site-packages (from pydantic<3,>=1.9.0->openai) (0.6.0)\n",
            "Requirement already satisfied: pydantic-core==2.16.3 in ./gpt-gen/lib/python3.11/site-packages (from pydantic<3,>=1.9.0->openai) (2.16.3)\n"
          ]
        }
      ],
      "source": [
        "!pip install openai tenacity"
      ]
    },
    {
      "cell_type": "code",
      "execution_count": 2,
      "metadata": {},
      "outputs": [],
      "source": [
        "prev_examples = [\n",
        "    \"Do you have online courses available?-----------Yes, we offer a wide range of online courses across various disciplines, allowing students to learn at their own pace and convenience.\",\n",
        "    \"What financial aid options are available for students?-----------Students have access to several financial aid options, including scholarships, grants, loans, and work-study programs, depending on their eligibility.\",\n",
        "    \"Can international students apply for financial aid?-----------International students can apply for specific scholarships and aid programs. We recommend contacting our financial aid office for more information on eligibility.\",\n",
        "    \"How can I apply for a scholarship?-----------You can apply for scholarships through our university's admissions portal. Some scholarships may require additional essays or documentation.\",\n",
        "    \"Is campus housing available for first-year students?-----------Yes, campus housing is available and typically guaranteed for first-year students. We encourage early application to secure a spot in our residence halls.\",\n",
        "    \"What is the student-to-faculty ratio?-----------Our student-to-faculty ratio is 10:1, ensuring that students receive personalized attention and support in their academic endeavors.\",\n",
        "    \"Are there research opportunities for undergraduates?-----------Yes, undergraduates have numerous opportunities to engage in research projects across various departments, often working closely with faculty members.\",\n",
        "    \"What career services are offered to graduates?-----------Our career services include resume and cover letter assistance, interview preparation, job search strategies, and networking opportunities with alumni and potential employers.\"\n",
        "]\n"
      ]
    },
    {
      "cell_type": "code",
      "execution_count": 3,
      "metadata": {
        "colab": {
          "base_uri": "https://localhost:8080/",
          "height": 615
        },
        "id": "Rdsd82ngpHCG",
        "outputId": "cb930a3d-6f2e-4d07-b0e4-708d18207ef7"
      },
      "outputs": [
        {
          "name": "stdout",
          "output_type": "stream",
          "text": [
            "Generating example 0\n",
            "Generating example 1\n",
            "Generating example 2\n",
            "Generating example 3\n",
            "Generating example 4\n",
            "Generating example 5\n",
            "Generating example 6\n",
            "Generating example 7\n",
            "Generating example 8\n",
            "Generating example 9\n",
            "Generating example 10\n",
            "Generating example 11\n",
            "Generating example 12\n",
            "Generating example 13\n",
            "Generating example 14\n",
            "Generating example 15\n",
            "Generating example 16\n",
            "Generating example 17\n",
            "Generating example 18\n",
            "Generating example 19\n",
            "Generating example 20\n",
            "Generating example 21\n",
            "Generating example 22\n",
            "Generating example 23\n",
            "Generating example 24\n",
            "Generating example 25\n",
            "Generating example 26\n",
            "Generating example 27\n",
            "Generating example 28\n",
            "Generating example 29\n",
            "Generating example 30\n",
            "Generating example 31\n",
            "Generating example 32\n",
            "Generating example 33\n",
            "Generating example 34\n",
            "Generating example 35\n",
            "Generating example 36\n",
            "Generating example 37\n",
            "Generating example 38\n",
            "Generating example 39\n",
            "Generating example 40\n",
            "Generating example 41\n",
            "Generating example 42\n",
            "Generating example 43\n",
            "Generating example 44\n",
            "Generating example 45\n",
            "Generating example 46\n",
            "Generating example 47\n",
            "Generating example 48\n",
            "Generating example 49\n",
            "Generating example 50\n",
            "Generating example 51\n",
            "Generating example 52\n",
            "Generating example 53\n",
            "Generating example 54\n",
            "Generating example 55\n",
            "Generating example 56\n",
            "Generating example 57\n",
            "Generating example 58\n",
            "Generating example 59\n",
            "Generating example 60\n",
            "Generating example 61\n",
            "Generating example 62\n",
            "Generating example 63\n",
            "Generating example 64\n",
            "Generating example 65\n",
            "Generating example 66\n",
            "Generating example 67\n",
            "Generating example 68\n",
            "Generating example 69\n",
            "Generating example 70\n",
            "Generating example 71\n",
            "Generating example 72\n",
            "Generating example 73\n",
            "Generating example 74\n",
            "Generating example 75\n",
            "Generating example 76\n",
            "Generating example 77\n",
            "Generating example 78\n",
            "Generating example 79\n",
            "Generating example 80\n",
            "Generating example 81\n",
            "Generating example 82\n",
            "Generating example 83\n",
            "Generating example 84\n",
            "Generating example 85\n",
            "Generating example 86\n",
            "Generating example 87\n",
            "Generating example 88\n",
            "Generating example 89\n",
            "Generating example 90\n",
            "Generating example 91\n",
            "Generating example 92\n",
            "Generating example 93\n",
            "Generating example 94\n",
            "Generating example 95\n",
            "Generating example 96\n",
            "Generating example 97\n",
            "Generating example 98\n",
            "Generating example 99\n",
            "Generating example 100\n",
            "Generating example 101\n",
            "Generating example 102\n",
            "Generating example 103\n",
            "Generating example 104\n",
            "Generating example 105\n",
            "Generating example 106\n",
            "Generating example 107\n",
            "Generating example 108\n",
            "Generating example 109\n",
            "Generating example 110\n",
            "Generating example 111\n",
            "Generating example 112\n",
            "Generating example 113\n",
            "Generating example 114\n",
            "Generating example 115\n",
            "Generating example 116\n",
            "Generating example 117\n",
            "Generating example 118\n",
            "Generating example 119\n",
            "Generating example 120\n",
            "Generating example 121\n",
            "Generating example 122\n",
            "Generating example 123\n",
            "Generating example 124\n",
            "Generating example 125\n",
            "Generating example 126\n",
            "Generating example 127\n",
            "Generating example 128\n",
            "Generating example 129\n",
            "Generating example 130\n",
            "Generating example 131\n",
            "Generating example 132\n",
            "Generating example 133\n",
            "Generating example 134\n",
            "Generating example 135\n",
            "Generating example 136\n",
            "Generating example 137\n",
            "Generating example 138\n",
            "Generating example 139\n",
            "Generating example 140\n",
            "Generating example 141\n",
            "Generating example 142\n",
            "Generating example 143\n",
            "Generating example 144\n",
            "Generating example 145\n",
            "Generating example 146\n",
            "Generating example 147\n",
            "Generating example 148\n",
            "Generating example 149\n",
            "\n",
            "Generated Examples:\n",
            "Do you have online courses available?-----------Yes, we offer a wide range of online courses across various disciplines, allowing students to learn at their own pace and convenience.\n",
            "What financial aid options are available for students?-----------Students have access to several financial aid options, including scholarships, grants, loans, and work-study programs, depending on their eligibility.\n",
            "Can international students apply for financial aid?-----------International students can apply for specific scholarships and aid programs. We recommend contacting our financial aid office for more information on eligibility.\n",
            "How can I apply for a scholarship?-----------You can apply for scholarships through our university's admissions portal. Some scholarships may require additional essays or documentation.\n",
            "Is campus housing available for first-year students?-----------Yes, campus housing is available and typically guaranteed for first-year students. We encourage early application to secure a spot in our residence halls.\n",
            "What is the student-to-faculty ratio?-----------Our student-to-faculty ratio is 10:1, ensuring that students receive personalized attention and support in their academic endeavors.\n",
            "Are there research opportunities for undergraduates?-----------Yes, undergraduates have numerous opportunities to engage in research projects across various departments, often working closely with faculty members.\n",
            "What career services are offered to graduates?-----------Our career services include resume and cover letter assistance, interview preparation, job search strategies, and networking opportunities with alumni and potential employers.\n",
            "Can students participate in study abroad programs?-----------Yes, students have the opportunity to participate in study abroad programs, allowing them to gain international experience and broaden their academic horizons.\n",
            "What is the process for declaring a major?-----------Students can declare a major by meeting with their academic advisor to discuss their interests and academic goals. They may need to complete specific requirements to officially declare their major.\n",
            "What extracurricular activities are available for students to participate in?-----------Students can participate in a wide range of extracurricular activities, including student clubs, intramural sports, community service projects, and cultural organizations.\n",
            "What is the process for transferring credits from another institution?-----------To transfer credits from another institution, students must submit official transcripts and course syllabi for evaluation. The university will then determine which credits are eligible for transfer.\n",
            "How can students get involved in campus clubs and organizations?-----------Students can explore and join various campus clubs and organizations during the annual Club Fair, where they can learn about different opportunities and sign up for membership.\n",
            "What research opportunities are available for graduate students?-----------Graduate students have access to a wide range of research opportunities, including working with faculty on research projects, conducting independent studies, and presenting findings at conferences.\n",
            "What research opportunities are available for graduate students?-----------Graduate students have access to various research opportunities, including working as research assistants on faculty projects, conducting independent research, and presenting findings at conferences.\n",
            "How can students access academic support services on campus?-----------Students can access academic support services by visiting the Student Success Center, where they can receive tutoring, academic coaching, and assistance with study skills and time management.\n",
            "What research opportunities are available for graduate students?-----------Graduate students have access to research opportunities through faculty-led projects, research centers, and collaborations with industry partners. They can also apply for grants to fund their research initiatives.\n",
            "How can students apply for financial aid?-----------Students can apply for financial aid by completing the Free Application for Federal Student Aid (FAFSA) and any additional forms required by the university. They can also explore scholarship opportunities and work-study programs.\n",
            "How can students apply for internships or co-op programs?-----------Students can apply for internships or co-op programs by visiting the Career Services office, where they can receive assistance with resume building, interview preparation, and access to job postings.\n",
            "What resources are available for students seeking career guidance?-----------Students can access career guidance resources through the Career Development Office, which offers services such as resume review, mock interviews, career counseling, and networking opportunities with alumni and employers.\n",
            "What is the process for students to apply for internships?-----------Students can apply for internships by searching for opportunities on the university's career portal, attending career fairs, networking with potential employers, and submitting applications with tailored resumes and cover letters.\n",
            "How can students apply for financial aid?-----------Students can apply for financial aid by completing the Free Application for Federal Student Aid (FAFSA) and any additional scholarship or grant applications required by the university.\n",
            "What is the process for students to request disability accommodations?-----------Students can request disability accommodations by contacting the Office of Disability Services, submitting documentation of their disability, and meeting with a disability services coordinator to discuss their needs and develop an accommodation plan.\n",
            "What resources are available for students with disabilities?-----------Students with disabilities can access resources such as disability accommodations, assistive technology, note-taking services, and specialized academic support through the Disability Services office.\n",
            "How can students get involved in community service projects?-----------Students can get involved in community service projects by joining student organizations dedicated to community service, participating in service-learning courses, volunteering with local non-profit organizations, and attending community service events organized by the university.\n",
            "What is the process for applying to graduate programs at CGU?-----------To apply to graduate programs at CGU, students must submit an online application, official transcripts, letters of recommendation, a statement of purpose, and any required test scores (such as GRE or GMAT).\n",
            "What research opportunities are available for graduate students at CGU?-----------Graduate students at CGU have access to various research opportunities, including working on faculty-led research projects, collaborating with industry partners, and pursuing independent research initiatives.\n",
            "How can students get involved in campus clubs and organizations?-----------Students can get involved in campus clubs and organizations by attending club fairs, reaching out to club leaders directly, and signing up for membership through the university's online portal.\n",
            "What types of extracurricular activities are available on campus?-----------There are a variety of extracurricular activities available on campus, including student clubs and organizations, intramural sports teams, community service projects, and cultural events.\n",
            "How can students connect with alumni for mentorship opportunities?-----------Students can connect with alumni for mentorship opportunities through networking events, alumni panels, and online platforms dedicated to facilitating alumni-student connections.\n",
            "What resources are available for students seeking career guidance?-----------Students can access career guidance resources such as career counseling services, job fairs, networking events, resume workshops, mock interviews, and online job search platforms through the university's Career Services office.\n",
            "How can students access academic support services?-----------Students can access academic support services such as tutoring, writing centers, and study groups by visiting the Academic Success Center or contacting their academic advisor for assistance.\n",
            "How can students apply for internships during their time at CGU?-----------Students can apply for internships by utilizing resources such as the Career Development Office, attending career fairs, networking with professionals in their field of interest, and searching for opportunities on online job boards.\n",
            "What resources are available for students seeking career guidance?-----------Students seeking career guidance can access resources such as career counseling services, resume workshops, mock interviews, job search assistance, networking events, and access to online job boards through the university's career center.\n",
            "Can students participate in study abroad programs?-----------Yes, students have the opportunity to participate in study abroad programs through partnerships with other universities and organizations, allowing them to gain international experience and broaden their academic horizons.\n",
            "How can students get involved in community service projects?-----------Students can get involved in community service projects by joining service-oriented student organizations, participating in university-sponsored service events, and seeking out volunteer opportunities in the local community.\n",
            "What support services are available for students with disabilities at CGU?-----------Students with disabilities can access support services such as academic accommodations, assistive technology, note-taking assistance, and disability advocacy through the university's Disability Services office.\n",
            "What career services are offered to graduates?-----------Graduates can access career services such as resume and cover letter assistance, interview preparation, job search strategies, and networking opportunities with alumni and potential employers to support their post-graduation career goals.\n",
            "How can students access mental health services on campus?-----------Students can access mental health services on campus through the university's counseling center, which offers individual counseling, group therapy, workshops, and referrals to off-campus providers if needed.\n",
            "What is the process for students to study abroad?-----------Students can study abroad by meeting with their academic advisor to discuss program options, applying to the study abroad program, completing any necessary paperwork, and arranging for transfer of credits upon return.\n",
            "What research opportunities are available for graduate students at CGU?-----------Graduate students at CGU have access to a wide range of research opportunities, including collaboration with faculty on research projects, participation in interdisciplinary research centers, and funding opportunities for independent research initiatives.\n",
            "What academic support services are available for students at CGU?-----------Students at CGU can access academic support services such as tutoring, writing centers, study groups, academic workshops, and library resources to enhance their learning experience and academic success.\n",
            "How can students request academic accommodations for disabilities?-----------Students can request academic accommodations for disabilities through the Office of Disability Services by submitting documentation of their disability and meeting with a disability specialist to discuss their needs.\n",
            "How can students get involved in leadership opportunities on campus?-----------Students can get involved in leadership opportunities on campus by joining student government, participating in leadership development programs, starting their own clubs or organizations, and applying for leadership positions within existing student groups.\n",
            "What resources does CGU offer for students seeking career guidance and job placement?-----------CGU offers a Career Development Office that provides services such as resume review, interview preparation, career counseling, job search strategies, and networking events with potential employers.\n",
            "What is the process for students to apply for financial aid at CGU?-----------Students can apply for financial aid at CGU by completing the Free Application for Federal Student Aid (FAFSA), submitting any required documentation, and meeting with a financial aid advisor to discuss their options for scholarships, grants, loans, and work-study programs.\n",
            "How can students get involved in extracurricular activities on campus?-----------Students can get involved in extracurricular activities by joining student organizations, clubs, and committees, participating in campus events, and volunteering for community service projects.\n",
            "How can students access mental health support services at CGU?-----------Students can access mental health support services at CGU by scheduling an appointment with a counselor at the Student Health and Wellness Center, participating in support groups, and utilizing online resources for self-care and mental health education.\n",
            "What research opportunities are available for graduate students at CGU?-----------Graduate students at CGU have access to various research opportunities, including collaborating with faculty on research projects, conducting independent research, presenting at conferences, and publishing research papers in academic journals.\n",
            "What is the process for students to apply for financial aid at CGU?-----------Students can apply for financial aid at CGU by completing the Free Application for Federal Student Aid (FAFSA), submitting any additional required documentation, and meeting with a financial aid advisor to discuss their options and eligibility for grants, scholarships, loans, and work-study programs.\n",
            "What resources are available for students seeking career guidance and job placement assistance?-----------Students can access career guidance and job placement assistance through the Career Development Office, which offers services such as resume reviews, mock interviews, career counseling, and networking events with potential employers.\n",
            "What support does CGU offer for international students?-----------CGU offers support for international students such as visa assistance, orientation programs, English language support, cultural adjustment resources, and international student advisors to help with academic and personal challenges.\n",
            "How can students access mental health services on campus?-----------Students can access mental health services on campus by scheduling an appointment with the university counseling center, attending support groups, participating in workshops and events focused on mental health, and utilizing online resources provided by the university.\n",
            "What academic support services are available to students at CGU?-----------Students at CGU can access academic support services such as tutoring, writing centers, study groups, academic coaching, and workshops on study skills and time management.\n",
            "How can students access mental health services on campus?-----------Students can access mental health services by scheduling an appointment at the Counseling Center, where they can receive individual counseling, group therapy, and psychiatric services if needed.\n",
            "How can students apply for on-campus housing?-----------Students can apply for on-campus housing by submitting a housing application, paying any required fees, and following the specific instructions provided by the housing office.\n",
            "How can students access resources for career planning and job search assistance?-----------Students can access resources for career planning and job search assistance at CGU by visiting the Career Development Office, attending career workshops and networking events, utilizing online job boards, and scheduling appointments with career advisors for personalized guidance.\n",
            "What support does CGU offer for students with disabilities?-----------CGU offers support for students with disabilities through the Disability Services Office, which provides accommodations such as extended test-taking time, note-taking assistance, and accessible classroom materials.\n",
            "What is the process for students to request disability accommodations?-----------To request disability accommodations, students must submit documentation of their disability to the Office of Disability Services, schedule a meeting with a disability services coordinator to discuss their needs, and work together to develop an accommodation plan that meets their individual requirements.\n",
            "How can students get involved in extracurricular activities at CGU?-----------Students can get involved in extracurricular activities at CGU by joining student organizations, participating in campus events, attending workshops and seminars, volunteering in the community, and exploring leadership opportunities within the university.\n",
            "How can students access mental health services on campus?-----------Students can access mental health services by scheduling an appointment at the Counseling Center, where they can receive individual counseling, group therapy, and psychiatric services if needed.\n",
            "How can students access research opportunities at CGU?-----------Students can access research opportunities at CGU by connecting with faculty members conducting research in their field of interest, applying for research assistant positions, participating in research conferences and symposiums, and exploring funding opportunities for research projects.\n",
            "What opportunities are available for students to engage in community service at CGU?-----------Students at CGU can engage in community service through partnerships with local organizations, service-learning courses, volunteer opportunities, and participation in community service events organized by the university.\n",
            "What steps should students take to request accommodations for disabilities at CGU?-----------To request accommodations for disabilities at CGU, students should submit documentation of their disability to the Office of Disability Services, schedule a meeting with a disability specialist to discuss their needs, and work collaboratively to develop an accommodation plan.\n",
            "How can students get involved in campus clubs and organizations?-----------To get involved in campus clubs and organizations, students can attend the annual Club Fair to explore different opportunities, learn about each club's mission and activities, and sign up for membership to actively participate in the campus community.\n",
            "What resources are available for students seeking career guidance at CGU?-----------CGU offers resources for students seeking career guidance, including career counseling services, resume and cover letter workshops, networking events, internship opportunities, and access to job postings through the university's career center.\n",
            "What support is available for students experiencing mental health challenges?-----------Students experiencing mental health challenges can access support services such as counseling, therapy, support groups, and mental health workshops through the Student Health and Wellness Center at CGU.\n",
            "How can students get involved in research opportunities at CGU?-----------Students can get involved in research opportunities at CGU by reaching out to faculty members in their field of interest, exploring research centers and institutes on campus, and participating in research assistant positions or projects.\n",
            "What career services are available to CGU students?-----------CGU offers career services such as resume building workshops, mock interviews, networking events, job search assistance, and access to an online job board for internship and job opportunities.\n",
            "How can students get involved in research opportunities at CGU?-----------Students can get involved in research opportunities at CGU by reaching out to faculty members in their field of interest, exploring research centers and institutes on campus, and participating in research assistant positions or projects.\n",
            "How can students get involved in community service and volunteer opportunities at CGU?-----------Students can get involved in community service and volunteer opportunities at CGU by joining service-oriented student organizations, participating in community outreach programs organized by the university, and volunteering with local nonprofit organizations.\n",
            "What resources are available for students interested in conducting research at CGU?-----------Students interested in conducting research at CGU can access resources such as research libraries, academic journals, research grants, and mentorship opportunities with faculty members.\n",
            "How can students access mental health services on campus?-----------Students can access mental health services on campus by scheduling an appointment with the university counseling center, participating in support groups, attending mental health workshops, and utilizing online resources provided by the university.\n",
            "What resources are available for students seeking career guidance at CGU?-----------Students seeking career guidance at CGU can utilize resources such as career counseling appointments, resume and cover letter reviews, mock interviews, career workshops and events, job search tools, and networking opportunities with alumni and employers.\n",
            "What research opportunities are available for students at CGU?-----------Students at CGU have access to research opportunities through faculty-led projects, research assistant positions, funding for independent research projects, and participation in conferences to present their work.\n",
            "How can students apply for financial aid at CGU?-----------Students can apply for financial aid at CGU by completing the Free Application for Federal Student Aid (FAFSA), exploring scholarship opportunities through the university's financial aid office, and considering work-study programs to help offset the cost of tuition.\n",
            "How can students apply for internships in their field of study?-----------Students can apply for internships in their field of study by visiting the Career Development Office, attending career fairs, networking with professionals in their industry, and submitting applications to companies offering internship opportunities.\n",
            "What extracurricular activities are available for students at CGU?-----------CGU offers a variety of extracurricular activities, including student clubs and organizations, community service projects, cultural events, guest lectures, sports teams, and social gatherings to enhance the overall student experience.\n",
            "How does CGU support students in finding internships and job placements?-----------CGU supports students in finding internships and job placements through career fairs, networking events, internship databases, alumni connections, and career counseling services that help students identify and apply for relevant opportunities in their field of study.\n",
            "What research opportunities are available for undergraduate students at CGU?-----------Undergraduate students at CGU have access to research opportunities through faculty-led projects, independent research initiatives, research assistant positions, and participation in research conferences and symposiums to showcase their work.\n",
            "How can students access mental health support services at CGU?-----------Students can access mental health support services at CGU by scheduling appointments with counselors at the university's counseling center, attending support groups, and utilizing online resources for mental health education and self-care tips.\n",
            "What mental health resources are available for students at CGU?-----------Students at CGU can access mental health resources such as counseling services, support groups, crisis intervention, and workshops on stress management and self-care through the university's counseling center.\n",
            "What resources are available for students interested in entrepreneurship?-----------Students interested in entrepreneurship can access resources such as business incubators, mentorship programs, networking events, and entrepreneurship workshops offered by the Drucker School of Management at CGU.\n",
            "How can students access online courses at CGU?-----------Students can access online courses at CGU by enrolling through the university's online learning platform, where they can browse available courses, register for classes, and access course materials and assignments.\n",
            "How does CGU support students in conducting interdisciplinary research projects?-----------CGU supports students in conducting interdisciplinary research projects by facilitating collaborations between different departments, providing access to research funding opportunities, offering workshops on interdisciplinary research methods, and encouraging participation in interdisciplinary research centers and initiatives.\n",
            "What steps should students take to declare a major at CGU?-----------To declare a major at CGU, students should schedule a meeting with their academic advisor to discuss their academic interests and career goals, review the requirements for the chosen major, and complete any necessary paperwork to officially declare their major.\n",
            "How can students apply for research grants and funding opportunities at CGU?-----------Students can apply for research grants and funding opportunities at CGU by submitting research proposals to relevant departments or research centers, attending grant writing workshops, seeking guidance from faculty mentors, and following application guidelines provided by the university.\n",
            "How can students access academic support services at CGU?-----------Students can access academic support services at CGU by visiting the tutoring center for help with specific subjects, meeting with academic advisors for guidance on course selection, and utilizing resources such as study groups, workshops, and academic success programs.\n",
            "How can students get involved in community service at CGU?-----------Students can get involved in community service at CGU by joining service-oriented student organizations, participating in volunteer events organized by the university, and collaborating with local community partners on service projects.\n",
            "What dining options are available on campus for students?-----------On campus, students have access to a variety of dining options including a cafeteria with diverse meal choices, coffee shops, grab-and-go options, food trucks, and dining halls with different cuisines to cater to various dietary preferences.\n",
            "How can students access academic tutoring services on campus?-----------Students can access academic tutoring services on campus by scheduling appointments with peer tutors, attending drop-in tutoring sessions, utilizing online tutoring platforms, and seeking help from faculty members during office hours.\n",
            "What steps should students take to participate in research opportunities at CGU?-----------To participate in research opportunities at CGU, students should reach out to faculty members in their field of interest, inquire about ongoing research projects, express their interest in getting involved, and discuss potential roles and responsibilities within the research team.\n",
            "What research opportunities are available for undergraduate students at CGU?-----------Undergraduate students at CGU can participate in research projects led by faculty members, collaborate on research studies with graduate students, and apply for research grants to support their own independent research initiatives.\n",
            "How can students access academic support services at CGU?-----------Students can access academic support services at CGU by scheduling appointments with academic advisors, attending tutoring sessions, joining study groups, utilizing writing centers for feedback on papers, and attending workshops on study skills and time management.\n",
            "What internship opportunities are available for students at CGU?-----------Students at CGU have access to a wide range of internship opportunities through partnerships with local businesses, non-profit organizations, government agencies, and research institutions, allowing them to gain practical work experience in their field of study.\n",
            "How can students find internship opportunities at CGU?-----------Students can find internship opportunities at CGU by utilizing the university's career services office, networking with alumni and professionals in their field, attending career fairs and events, and exploring online job boards and internship databases.\n",
            "What support services are available for international students at CGU?-----------International students at CGU can access support services such as visa assistance, cultural adjustment workshops, English language tutoring, and guidance on academic and personal challenges through the International Student Services office.\n",
            "What is the process for students to request disability accommodations at CGU?-----------To request disability accommodations at CGU, students need to submit documentation of their disability to the Office of Accessibility Services, schedule a meeting to discuss their needs with a disability services coordinator, and work together to create an accommodation plan tailored to their specific requirements.\n",
            "What resources are available for career development at CGU?-----------CGU offers resources for career development such as career counseling, resume and cover letter assistance, networking events, internship opportunities, and workshops on job search strategies.\n",
            "What resources are available for students interested in entrepreneurship at CGU?-----------Students interested in entrepreneurship at CGU can access resources such as the Randall Lewis Center for Innovation & Entrepreneurship, which offers workshops, mentorship programs, funding opportunities, and networking events to support aspiring entrepreneurs.\n",
            "How can students get involved in extracurricular activities at CGU?-----------Students can get involved in extracurricular activities at CGU by joining student organizations, clubs, and associations, attending campus events and workshops, participating in community service projects, and exploring leadership opportunities.\n",
            "How can students get involved in community service initiatives at CGU?-----------Students can get involved in community service initiatives at CGU by joining student organizations dedicated to community service, participating in volunteer programs organized by the university, and collaborating with local nonprofit organizations on service projects.\n",
            "What resources are available for students interested in studying abroad?-----------Students interested in studying abroad can access resources such as study abroad advisors, information sessions, funding opportunities, and guidance on selecting programs that align with their academic and personal goals.\n",
            "How can students apply for scholarships at CGU?-----------Students can apply for scholarships at CGU by researching available scholarships, meeting application deadlines, submitting required documents, and writing compelling essays to demonstrate their qualifications for the scholarships.\n",
            "What academic support services are available to students at CGU?-----------Students at CGU can access academic support services such as tutoring, study groups, writing centers, academic coaching, and workshops on study skills and time management to help them succeed in their coursework.\n",
            "What housing options are available for graduate students at CGU?-----------Graduate students at CGU have housing options such as on-campus apartments, off-campus housing resources provided by the university, and assistance in finding roommates through housing matching services.\n",
            "How can students get involved in student organizations at CGU?-----------Students can get involved in student organizations at CGU by attending club fairs to learn about different groups, reaching out to club leaders to express interest, and participating in club meetings, events, and activities.\n",
            "How can students apply for financial aid at CGU?-----------Students can apply for financial aid at CGU by completing the Free Application for Federal Student Aid (FAFSA), submitting any additional required documents, and meeting the deadlines set by the university's financial aid office.\n",
            "What internship opportunities are available for students at CGU?-----------Students at CGU have access to internship opportunities through the Career Development Office, which connects students with local and national organizations for hands-on work experience in their field of study.\n",
            "How can graduate students secure funding for their research projects at CGU?-----------Graduate students can secure funding for their research projects at CGU by applying for internal grants, external fellowships, research assistant positions, and teaching assistantships within their department.\n",
            "What mental health resources are available for students at CGU?-----------Students at CGU have access to mental health resources such as counseling services, support groups, workshops on stress management and mindfulness, and referrals to off-campus therapists if needed.\n",
            "What steps should students take to study abroad through CGU's programs?-----------To study abroad through CGU's programs, students should meet with an academic advisor to discuss their study abroad goals, research available programs that align with their academic interests, apply for relevant scholarships or grants, and complete any required pre-departure orientations or paperwork.\n",
            "What support is available for international students at CGU?-----------International students at CGU can access support services such as international student orientation, immigration advising, cultural adjustment workshops, English language support, and assistance with visa and documentation issues.\n",
            "What career services are available to students at CGU?-----------CGU offers a range of career services to students, including resume and cover letter assistance, mock interviews, networking events, job fairs, and access to job postings and internship opportunities.\n",
            "How can students apply for research grants at CGU?-----------Students can apply for research grants at CGU by submitting a detailed research proposal outlining their project, budget, timeline, and expected outcomes to the appropriate grant committee for review and approval.\n",
            "What resources are available for students interested in conducting research at CGU?-----------Students interested in conducting research at CGU can access resources such as research grants, funding opportunities, access to specialized libraries and databases, collaboration with faculty members, and research workshops to enhance their research skills.\n",
            "How can students get involved in research projects at CGU?-----------Students can get involved in research projects at CGU by reaching out to faculty members in their department, attending research symposiums and events, applying for research assistant positions, and seeking out opportunities through academic departments and research centers on campus.\n",
            "How can students apply for research grants at CGU?-----------Students can apply for research grants at CGU by submitting a detailed research proposal outlining their project, budget, timeline, and expected outcomes to the appropriate grant committee for review and consideration.\n",
            "How can students apply for study abroad programs at CGU?-----------Students can apply for study abroad programs at CGU by meeting with the study abroad advisor, selecting a program that aligns with their academic goals, completing the application process, and securing any necessary travel documents and visas.\n",
            "How does CGU support students in their academic and professional development?-----------CGU supports students in their academic and professional development through resources such as academic advising, career planning workshops, research funding opportunities, networking events, and mentorship programs with faculty members and industry professionals.\n",
            "What resources are available for students seeking career guidance at CGU?-----------Students seeking career guidance at CGU can access resources such as career counseling, resume workshops, job search assistance, networking events, internship opportunities, and alumni mentorship programs to help them navigate their career paths.\n",
            "How can students access mental health support services at CGU?-----------Students can access mental health support services at CGU by scheduling appointments with counselors at the university's counseling center, attending support groups, participating in workshops on mental health and well-being, and utilizing online resources for self-care and stress management.\n",
            "What support services are available for international students at CGU?-----------CGU offers support services for international students such as visa assistance, cultural adjustment workshops, English language support, international student orientation programs, and access to international student advisors for guidance and support.\n",
            "What support services are available for students with disabilities at CGU?-----------CGU provides support services for students with disabilities, including accommodations for exams and coursework, assistive technology resources, access to disability services staff for guidance and support, and advocacy for equal access to education.\n",
            "How can students get involved in community service projects at CGU?-----------Students can get involved in community service projects at CGU by joining student organizations focused on community engagement, participating in service-learning courses, or volunteering with local non-profit organizations partnered with the university.\n",
            "How can students apply for scholarships at CGU?-----------Students can apply for scholarships at CGU by researching available scholarships on the university's website, completing scholarship applications, writing compelling essays, obtaining letters of recommendation, and submitting all required documents by the specified deadlines.\n",
            "What resources are available for students with disabilities at CGU?-----------CGU provides resources for students with disabilities, including disability accommodations, assistive technology, accessible campus facilities, and support services to ensure equal access to education.\n",
            "What financial aid options are available to students at CGU?-----------Students at CGU can explore financial aid options such as scholarships, grants, work-study programs, student loans, and tuition payment plans to help finance their education.\n",
            "What steps should students take to declare a major at CGU?-----------To declare a major at CGU, students should meet with their academic advisor to discuss their academic interests and career goals, review major requirements, complete any necessary paperwork, and officially declare their major through the university's registration system.\n",
            "How can students access academic tutoring services at CGU?-----------Students can access academic tutoring services at CGU by scheduling appointments with tutors through the university's tutoring center, attending drop-in tutoring sessions, and utilizing online resources for subject-specific help and study tips.\n",
            "What resources does CGU offer for students interested in studying abroad?-----------CGU offers resources such as study abroad advising, information sessions, assistance with program selection, help with the application process, and support for transferring credits earned abroad back to CGU.\n",
            "How does CGU promote diversity and inclusion on campus?-----------CGU promotes diversity and inclusion on campus through initiatives such as diversity training for faculty and staff, multicultural events and celebrations, affinity groups for underrepresented communities, scholarship programs for diverse students, and support services for students from diverse backgrounds.\n",
            "How can students access mental health services at CGU?-----------Students can access mental health services at CGU by scheduling appointments with counselors at the university's counseling center, attending support groups, participating in mental health awareness events, and utilizing online resources for self-care and mental wellness.\n",
            "What resources are available for students interested in studying abroad at CGU?-----------Students interested in studying abroad at CGU can access resources such as information sessions, workshops on international opportunities, guidance on selecting study abroad programs that align with their academic goals, and assistance with the application process for studying abroad.\n",
            "How can students get involved in research opportunities at CGU?-----------Students can get involved in research opportunities at CGU by reaching out to faculty members in their field of interest, applying for research assistant positions, and attending research symposiums and conferences to network with potential research collaborators.\n",
            "What extracurricular activities are available for students at CGU?-----------Students at CGU can participate in a variety of extracurricular activities such as student organizations, clubs, intramural sports, cultural events, community service projects, and academic conferences.\n",
            "How can students apply for financial aid at CGU?-----------To apply for financial aid at CGU, students must complete the Free Application for Federal Student Aid (FAFSA) form and any additional institutional aid applications required by the university.\n",
            "What career development resources are available to students at CGU?-----------Students at CGU can access career development resources such as resume workshops, mock interviews, career counseling, job search assistance, employer networking events, and internship opportunities through the university's career services office.\n",
            "What mental health resources are available to students at CGU?-----------Students at CGU have access to mental health resources such as counseling services, support groups, workshops on stress management and self-care, and referrals to off-campus mental health professionals if needed.\n",
            "How can students apply for internships at CGU?-----------Students can apply for internships at CGU by visiting the Career Services office for internship listings, preparing a resume and cover letter, attending networking events, and scheduling interviews with potential internship hosts.\n",
            "What steps can students take to find housing near CGU?-----------Students can find housing near CGU by researching local rental listings, contacting the university's housing office for resources and recommendations, exploring off-campus housing websites, and connecting with current students or alumni for housing advice.\n",
            "What career development resources are available to students at CGU?-----------Students at CGU have access to career development resources such as career counseling, resume and cover letter reviews, mock interviews, networking events, job fairs, and internship opportunities to help them prepare for their future careers.\n",
            "What steps should students take to apply for financial aid at CGU?-----------To apply for financial aid at CGU, students should complete the Free Application for Federal Student Aid (FAFSA), submit any additional required documentation, review their financial aid package, and follow up with the financial aid office for any questions or concerns.\n",
            "How can students get involved in extracurricular activities at CGU?-----------Students can get involved in extracurricular activities at CGU by joining student organizations, clubs, and committees, participating in campus events and activities, and volunteering for community service projects.\n",
            "How can students access academic advising services at CGU?-----------Students can access academic advising services at CGU by scheduling appointments with academic advisors, attending drop-in advising hours, and utilizing online resources such as degree requirements and course planning tools to help them navigate their academic journey.\n",
            "What mental health resources are available to students at CGU?-----------CGU provides mental health resources to students, including counseling services, support groups, workshops on stress management and mindfulness, and referrals to off-campus mental health professionals for more specialized care.\n",
            "What support is available for students with disabilities at CGU?-----------Students with disabilities at CGU can access support services through the Disability Services Office, which provides accommodations such as extended test-taking time, note-taking assistance, and accessible campus facilities.\n",
            "How can students apply for financial aid at CGU?-----------To apply for financial aid at CGU, students need to complete the Free Application for Federal Student Aid (FAFSA), submit any additional required documents, such as tax returns or verification forms, and review their financial aid package once it is awarded.\n",
            "What academic support services are available to students at CGU?-----------Students at CGU can access academic support services such as tutoring, study groups, writing centers, academic coaching, and workshops on study skills and time management to enhance their academic performance.\n",
            "How can students participate in community service projects at CGU?-----------Students can participate in community service projects by joining student organizations focused on community engagement, volunteering with local nonprofit organizations, attending service-learning events organized by the university, and collaborating with faculty on community-based research projects.\n",
            "How can students get involved in extracurricular activities at CGU?-----------Students can get involved in extracurricular activities at CGU by joining student clubs and organizations, participating in campus events and activities, volunteering for community service projects, and attending workshops and seminars on campus.\n",
            "What is the process for students to apply for financial aid at CGU?-----------To apply for financial aid at CGU, students must complete the Free Application for Federal Student Aid (FAFSA) form, submit any required documentation, and meet application deadlines to be considered for scholarships, grants, loans, and work-study opportunities.\n",
            "What academic support services are available for students at CGU?-----------Students at CGU can access academic support services such as tutoring, writing centers, study skills workshops, and academic advising to help them succeed in their coursework.\n",
            "How can students access mental health support services at CGU?-----------Students can access mental health support services at CGU by scheduling appointments with counselors at the Student Health and Wellness Center, attending support groups, participating in wellness workshops, and utilizing online resources for mental health education and self-care tips.\n",
            "How can students get involved in extracurricular activities at CGU?-----------Students can get involved in extracurricular activities at CGU by joining student organizations, participating in campus events and workshops, volunteering for community service projects, and attending social gatherings organized by the university.\n",
            "How can students apply for housing at CGU?-----------Students can apply for housing at CGU by submitting a housing application through the university's housing portal, selecting their preferences for roommates and housing options, and paying any required deposits or fees.\n",
            "What is the process for students to apply for financial aid at CGU?-----------To apply for financial aid at CGU, students must complete the Free Application for Federal Student Aid (FAFSA), submit any additional required documentation, review financial aid packages offered by the university, and follow up with the financial aid office for any questions or concerns.\n",
            "What academic support services are available to students at CGU?-----------Students at CGU can access academic support services such as tutoring, writing centers, study groups, academic workshops, and peer mentoring programs to help them excel in their coursework and achieve their academic goals.\n"
          ]
        }
      ],
      "source": [
        "import os\n",
        "import openai\n",
        "import random\n",
        "from tenacity import retry, stop_after_attempt, wait_exponential\n",
        "\n",
        "# Load the OpenAI API key from an environment variable first, then fallback to direct setting for this example\n",
        "openai.api_key = os.getenv(\"OPENAI_API_KEY\")\n",
        "\n",
        "N_RETRIES = 3\n",
        "\n",
        "@retry(stop=stop_after_attempt(N_RETRIES), wait=wait_exponential(multiplier=1, min=4, max=70))\n",
        "def generate_example(prompt, prev_examples, temperature=.5):\n",
        "    messages = [{\n",
        "        \"role\": \"system\",\n",
        "        \"content\": f\"You are generating data which will be used to train a machine learning model.\\n\\nYou will be given a high-level description of the model we want to train, and from that, you will generate data samples, each with a prompt/response pair.\\n\\nYou will do so in this format:\\n```\\nprompt\\n-----------\\nresponse_goes_here\\n-----------\\n```\\n\\nOnly one prompt/response pair should be generated per turn.\\n\\nFor each turn, make the example slightly more complex than the last, while ensuring diversity.\\n\\nMake sure your samples are unique and diverse, yet high-quality and complex enough to train a well-performing model.\\n\\nHere is the type of model we want to train:\\n`{prompt}`\"\n",
        "    }]\n",
        "\n",
        "    # Add previous examples if there are any\n",
        "    \n",
        "    if prev_examples:\n",
        "        if len(prev_examples) > 8:\n",
        "            prev_examples = random.sample(prev_examples, 8)\n",
        "        for example in prev_examples:\n",
        "            messages.append({\"role\": \"assistant\", \"content\": example})\n",
        "\n",
        "    response = openai.chat.completions.create(\n",
        "        model=\"gpt-3.5-turbo\",\n",
        "        messages=messages,\n",
        "        temperature=temperature,\n",
        "        max_tokens=1000,\n",
        "    )\n",
        "\n",
        "    # Correctly access the message content using dot notation\n",
        "    return response.choices[0].message.content\n",
        "\n",
        "# Generate examples\n",
        "for i in range(number_of_examples):\n",
        "    print(f'Generating example {i}')\n",
        "    example = generate_example(prompt, prev_examples, temperature)\n",
        "    prev_examples.append(example)\n",
        "\n",
        "print(\"\\nGenerated Examples:\")\n",
        "for example in prev_examples:\n",
        "    print(example)\n"
      ]
    },
    {
      "cell_type": "markdown",
      "metadata": {
        "id": "KC6iJzXjugJ-"
      },
      "source": [
        "We also need to generate a system message."
      ]
    },
    {
      "cell_type": "code",
      "execution_count": 4,
      "metadata": {
        "id": "xMcfhW6Guh2E"
      },
      "outputs": [
        {
          "name": "stdout",
          "output_type": "stream",
          "text": [
            "The system message is: `Given a complex and specific question related to Claremont Graduate University, provide a detailed and well-reasoned response with step-by-step explanations.`. Feel free to re-run this cell if you want a better result.\n"
          ]
        }
      ],
      "source": [
        "def generate_system_message(prompt):\n",
        "\n",
        "    prompt = 'A model that takes in a puzzle-like reasoning-heavy and specific questions in English for a college named Claremont Graduate University (CGU), and responds with a well-reasoned, accurate, step-by-step thought out response in English.'\n",
        "    response = openai.chat.completions.create(\n",
        "        model=\"gpt-3.5-turbo\",\n",
        "        messages=[\n",
        "          {\n",
        "            \"role\": \"system\",\n",
        "            \"content\": \"You will be given a high-level description of the model we are training, and from that, you will generate a simple system prompt for that model to use. Remember, you are not generating the system message for data generation -- you are generating the system message to use for inference. A good format to follow is `Given $INPUT_DATA, you will $WHAT_THE_MODEL_SHOULD_DO.`.\\n\\nMake it as concise as possible. Include nothing but the system prompt in your response.\\n\\nFor example, never write: `\\\"$SYSTEM_PROMPT_HERE\\\"`.\\n\\nIt should be like: `$SYSTEM_PROMPT_HERE`.\"\n",
        "          },\n",
        "          {\n",
        "              \"role\": \"user\",\n",
        "              \"content\": prompt.strip(),\n",
        "          }\n",
        "        ],\n",
        "        temperature=temperature,\n",
        "        max_tokens=500,\n",
        "    )\n",
        "\n",
        "    return response.choices[0].message.content\n",
        "\n",
        "system_message = generate_system_message(prompt)\n",
        "\n",
        "print(f'The system message is: `{system_message}`. Feel free to re-run this cell if you want a better result.')"
      ]
    },
    {
      "cell_type": "markdown",
      "metadata": {
        "id": "G6BqZ-hjseBF"
      },
      "source": [
        "Now let's put our examples into a dataframe and turn them into a final pair of datasets."
      ]
    },
    {
      "cell_type": "code",
      "execution_count": 17,
      "metadata": {},
      "outputs": [
        {
          "name": "stdout",
          "output_type": "stream",
          "text": [
            "Collecting pandas\n",
            "  Downloading pandas-2.2.1-cp311-cp311-macosx_11_0_arm64.whl.metadata (19 kB)\n",
            "Collecting numpy<2,>=1.23.2 (from pandas)\n",
            "  Downloading numpy-1.26.4-cp311-cp311-macosx_11_0_arm64.whl.metadata (114 kB)\n",
            "\u001b[2K     \u001b[90m━━━━━━━━━━━━━━━━━━━━━━━━━━━━━━━━━━━━━━━\u001b[0m \u001b[32m114.8/114.8 kB\u001b[0m \u001b[31m5.8 MB/s\u001b[0m eta \u001b[36m0:00:00\u001b[0m\n",
            "\u001b[?25hRequirement already satisfied: python-dateutil>=2.8.2 in ./gpt-gen/lib/python3.11/site-packages (from pandas) (2.9.0.post0)\n",
            "Collecting pytz>=2020.1 (from pandas)\n",
            "  Downloading pytz-2024.1-py2.py3-none-any.whl.metadata (22 kB)\n",
            "Collecting tzdata>=2022.7 (from pandas)\n",
            "  Downloading tzdata-2024.1-py2.py3-none-any.whl.metadata (1.4 kB)\n",
            "Requirement already satisfied: six>=1.5 in ./gpt-gen/lib/python3.11/site-packages (from python-dateutil>=2.8.2->pandas) (1.16.0)\n",
            "Downloading pandas-2.2.1-cp311-cp311-macosx_11_0_arm64.whl (11.3 MB)\n",
            "\u001b[2K   \u001b[90m━━━━━━━━━━━━━━━━━━━━━━━━━━━━━━━━━━━━━━━━\u001b[0m \u001b[32m11.3/11.3 MB\u001b[0m \u001b[31m9.5 MB/s\u001b[0m eta \u001b[36m0:00:00\u001b[0m00:01\u001b[0m00:01\u001b[0mm\n",
            "\u001b[?25hDownloading numpy-1.26.4-cp311-cp311-macosx_11_0_arm64.whl (14.0 MB)\n",
            "\u001b[2K   \u001b[90m━━━━━━━━━━━━━━━━━━━━━━━━━━━━━━━━━━━━━━━━\u001b[0m \u001b[32m14.0/14.0 MB\u001b[0m \u001b[31m8.9 MB/s\u001b[0m eta \u001b[36m0:00:00\u001b[0m00:01\u001b[0m00:01\u001b[0m\n",
            "\u001b[?25hDownloading pytz-2024.1-py2.py3-none-any.whl (505 kB)\n",
            "\u001b[2K   \u001b[90m━━━━━━━━━━━━━━━━━━━━━━━━━━━━━━━━━━━━━━━━\u001b[0m \u001b[32m505.5/505.5 kB\u001b[0m \u001b[31m11.9 MB/s\u001b[0m eta \u001b[36m0:00:00\u001b[0ma \u001b[36m0:00:01\u001b[0m\n",
            "\u001b[?25hDownloading tzdata-2024.1-py2.py3-none-any.whl (345 kB)\n",
            "\u001b[2K   \u001b[90m━━━━━━━━━━━━━━━━━━━━━━━━━━━━━━━━━━━━━━━━\u001b[0m \u001b[32m345.4/345.4 kB\u001b[0m \u001b[31m11.4 MB/s\u001b[0m eta \u001b[36m0:00:00\u001b[0m\n",
            "\u001b[?25hInstalling collected packages: pytz, tzdata, numpy, pandas\n",
            "Successfully installed numpy-1.26.4 pandas-2.2.1 pytz-2024.1 tzdata-2024.1\n"
          ]
        }
      ],
      "source": [
        "!pip install pandas  "
      ]
    },
    {
      "cell_type": "code",
      "execution_count": 5,
      "metadata": {
        "id": "7CEdkYeRsdmB"
      },
      "outputs": [
        {
          "name": "stdout",
          "output_type": "stream",
          "text": [
            "There are 156 successfully-generated examples.\n"
          ]
        }
      ],
      "source": [
        "import json\n",
        "import pandas as pd\n",
        "\n",
        "# Initialize lists to store prompts and responses\n",
        "prompts = []\n",
        "responses = []\n",
        "\n",
        "# Parse out prompts and responses from examples\n",
        "for example in prev_examples:\n",
        "  try:\n",
        "    split_example = example.split('-----------')\n",
        "    prompts.append(split_example[0].strip())  # Corrected index for prompt\n",
        "    responses.append(split_example[1].strip())  # Corrected index for response\n",
        "  except IndexError as e:\n",
        "    print(f\"Error processing example: {example}. Error: {e}\")\n",
        "    pass\n",
        "\n",
        "# Create a DataFrame\n",
        "df = pd.DataFrame({\n",
        "    'prompt': prompts,\n",
        "    'response': responses\n",
        "})\n",
        "\n",
        "# Remove duplicates\n",
        "df = df.drop_duplicates()\n",
        "\n",
        "print('There are ' + str(len(df)) + ' successfully-generated examples.')\n",
        "\n",
        "# Initialize list to store training examples\n",
        "training_examples = []\n",
        "\n",
        "# Create training examples in the format required for GPT-3.5 fine-tuning\n",
        "for index, row in df.iterrows():\n",
        "    training_example = {\n",
        "        \"messages\": [\n",
        "            {\"role\": \"system\", \"content\": system_message.strip()},\n",
        "            {\"role\": \"user\", \"content\": row['prompt']},\n",
        "            {\"role\": \"assistant\", \"content\": row['response']}\n",
        "        ]\n",
        "    }\n",
        "    training_examples.append(training_example)\n",
        "\n",
        "# Save training examples to a .jsonl file\n",
        "with open('training_examples.jsonl', 'w') as f:\n",
        "    for example in training_examples:\n",
        "        f.write(json.dumps(example) + '\\n')"
      ]
    },
    {
      "cell_type": "code",
      "execution_count": 6,
      "metadata": {},
      "outputs": [],
      "source": [
        "jsondata = pd.read_json('/Users/Parzon/Downloads/GPT GAN/training_examples.jsonl', lines =  True)"
      ]
    },
    {
      "cell_type": "code",
      "execution_count": 8,
      "metadata": {},
      "outputs": [],
      "source": [
        "# Adjust display settings\n",
        "pd.set_option('display.max_rows', 500)  # Adjust as needed\n",
        "pd.set_option('display.max_columns', 10)  # Adjust as needed\n",
        "pd.set_option('display.max_colwidth', None)  # Show full content of each field\n",
        "pd.set_option('display.width', 1000)  # Adjust the total width of the display"
      ]
    },
    {
      "cell_type": "markdown",
      "metadata": {
        "id": "KWTY6qVgXD_T"
      },
      "source": [
        "# Upload the file to OpenAI"
      ]
    },
    {
      "cell_type": "code",
      "execution_count": null,
      "metadata": {
        "id": "4LjEUrI9XDgT"
      },
      "outputs": [],
      "source": [
        "file_id = openai.File.create(\n",
        "  file=open(\"/content/training_examples.jsonl\", \"rb\"),\n",
        "  purpose='fine-tune'\n",
        ").id"
      ]
    },
    {
      "cell_type": "markdown",
      "metadata": {
        "id": "HmYRIq8dW9IR"
      },
      "source": [
        "# Train the model! You may need to wait a few minutes before running the next cell to allow for the file to process on OpenAI's servers."
      ]
    },
    {
      "cell_type": "code",
      "execution_count": null,
      "metadata": {
        "id": "rdEyXmkoW80I"
      },
      "outputs": [],
      "source": [
        "job = openai.FineTuningJob.create(training_file=file_id, model=\"gpt-3.5-turbo\")\n",
        "\n",
        "job_id = job.id"
      ]
    },
    {
      "cell_type": "markdown",
      "metadata": {
        "id": "XUSX5QzmZMTd"
      },
      "source": [
        "# Now, just wait until the fine-tuning run is done, and you'll have a ready-to-use model!\n",
        "\n",
        "Run this cell every 20 minutes or so -- eventually, you'll see a message \"New fine-tuned model created: ft:gpt-3.5-turbo-0613:xxxxxxxxxxxx\"\n",
        "\n",
        "Once you see that message, you can go to the OpenAI Playground (or keep going to the next cells and use the API) to try the model!"
      ]
    },
    {
      "cell_type": "code",
      "execution_count": null,
      "metadata": {},
      "outputs": [],
      "source": [
        "#openai.FineTuningJob.list_events(id=job_id, limit=10)"
      ]
    },
    {
      "cell_type": "code",
      "execution_count": null,
      "metadata": {},
      "outputs": [],
      "source": [
        "# model_name_pre_object = openai.FineTuningJob.retrieve(job_id)\n",
        "# model_name = model_name_pre_object.fine_tuned_model\n",
        "# print(model_name)"
      ]
    },
    {
      "cell_type": "code",
      "execution_count": 10,
      "metadata": {},
      "outputs": [],
      "source": [
        "job_id = 'ftjob-JnFgOwQ2F6D6glwBJHqCYOUA'"
      ]
    },
    {
      "cell_type": "code",
      "execution_count": 12,
      "metadata": {
        "id": "45DJZ7hHaBx0"
      },
      "outputs": [
        {
          "data": {
            "text/plain": [
              "FineTuningJob(id='ftjob-JnFgOwQ2F6D6glwBJHqCYOUA', created_at=1711858412, error=Error(code=None, message=None, param=None, error=None), fine_tuned_model='ft:gpt-3.5-turbo-1106:personal:cgu:98h873u8', finished_at=1711859442, hyperparameters=Hyperparameters(n_epochs=3, batch_size=1, learning_rate_multiplier=2), model='gpt-3.5-turbo-1106', object='fine_tuning.job', organization_id='org-Zv99cwny8iPo0sPegzKlrR6b', result_files=['file-XTcWFtFxojLLi1Iyfp0M7V2a'], status='succeeded', trained_tokens=42150, training_file='file-DLfFTxOJqaSy6oPXEN0J6Vgl', validation_file=None, user_provided_suffix='CGU')"
            ]
          },
          "execution_count": 12,
          "metadata": {},
          "output_type": "execute_result"
        }
      ],
      "source": [
        "from openai import OpenAI\n",
        "client = OpenAI()\n",
        "\n",
        "client.fine_tuning.jobs.retrieve(job_id)\n"
      ]
    },
    {
      "cell_type": "markdown",
      "metadata": {
        "id": "91ihW2O27Phl"
      },
      "source": [
        "# Once your model is trained, run the next cell to grab the fine-tuned model name."
      ]
    },
    {
      "cell_type": "markdown",
      "metadata": {
        "id": "2OmZLoBX7oQM"
      },
      "source": [
        "# Let's try it out!"
      ]
    },
    {
      "cell_type": "code",
      "execution_count": null,
      "metadata": {
        "id": "uxbrmzc5dMuC"
      },
      "outputs": [
        {
          "name": "stdout",
          "output_type": "stream",
          "text": [
            "User's prompt: What clasd does Dr.Li teach, be sure, shes in data science\n",
            "Dr. Li teaches courses in the data science program, including \"Data Analysis and Visualization\" and \"Machine Learning for Data Science.\"\n"
          ]
        }
      ],
      "source": [
        "user_prompt = \"What classes does Dr.Li teach, be sure\"\n",
        "#df['prompt'].sample().values[0] \n",
        "\n",
        "# Print the user's prompt\n",
        "print(f\"User's prompt: {user_prompt}\")\n",
        "\n",
        "response = openai.chat.completions.create(\n",
        "    model=\"ft:gpt-3.5-turbo-1106:personal:cgu:98h873u8\",\n",
        "    messages=[\n",
        "      {\n",
        "        \"role\": \"system\",\n",
        "        \"content\": system_message,\n",
        "      },\n",
        "      {\n",
        "          \"role\": \"user\",\n",
        "          \"content\": user_prompt,\n",
        "      }\n",
        "    ],\n",
        ")\n",
        "\n",
        "\n",
        "print(response.choices[0].message.content)"
      ]
    },
    {
      "cell_type": "code",
      "execution_count": null,
      "metadata": {},
      "outputs": [],
      "source": []
    }
  ],
  "metadata": {
    "accelerator": "GPU",
    "colab": {
      "gpuType": "T4",
      "provenance": []
    },
    "kernelspec": {
      "display_name": "Python 3",
      "name": "python3"
    },
    "language_info": {
      "codemirror_mode": {
        "name": "ipython",
        "version": 3
      },
      "file_extension": ".py",
      "mimetype": "text/x-python",
      "name": "python",
      "nbconvert_exporter": "python",
      "pygments_lexer": "ipython3",
      "version": "3.11.1"
    }
  },
  "nbformat": 4,
  "nbformat_minor": 0
}
